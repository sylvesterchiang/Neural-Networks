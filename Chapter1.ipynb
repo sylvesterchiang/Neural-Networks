{
 "cells": [
  {
   "cell_type": "code",
   "execution_count": 2,
   "metadata": {
    "collapsed": false
   },
   "outputs": [],
   "source": [
    "import network\n",
    "import mnist\n",
    "\n",
    "training_data, validation_data, test_data = mnist.load_data_wrapper()"
   ]
  },
  {
   "cell_type": "code",
   "execution_count": 3,
   "metadata": {
    "collapsed": true
   },
   "outputs": [],
   "source": [
    "net = network.Network([784, 30, 10])"
   ]
  },
  {
   "cell_type": "code",
   "execution_count": 4,
   "metadata": {
    "collapsed": false
   },
   "outputs": [
    {
     "name": "stdout",
     "output_type": "stream",
     "text": [
      "Epoch 0: 9021 / 10000\n",
      "Epoch 1: 9121 / 10000\n",
      "Epoch 2: 9228 / 10000\n",
      "Epoch 3: 9267 / 10000\n",
      "Epoch 4: 9322 / 10000\n",
      "Epoch 5: 9384 / 10000\n",
      "Epoch 6: 9347 / 10000\n",
      "Epoch 7: 9386 / 10000\n",
      "Epoch 8: 9408 / 10000\n",
      "Epoch 9: 9418 / 10000\n",
      "Epoch 10: 9394 / 10000\n",
      "Epoch 11: 9405 / 10000\n",
      "Epoch 12: 9404 / 10000\n",
      "Epoch 13: 9417 / 10000\n",
      "Epoch 14: 9422 / 10000\n",
      "Epoch 15: 9415 / 10000\n",
      "Epoch 16: 9445 / 10000\n",
      "Epoch 17: 9397 / 10000\n",
      "Epoch 18: 9450 / 10000\n",
      "Epoch 19: 9406 / 10000\n",
      "Epoch 20: 9439 / 10000\n",
      "Epoch 21: 9457 / 10000\n",
      "Epoch 22: 9420 / 10000\n",
      "Epoch 23: 9428 / 10000\n",
      "Epoch 24: 9413 / 10000\n",
      "Epoch 25: 9436 / 10000\n",
      "Epoch 26: 9400 / 10000\n",
      "Epoch 27: 9434 / 10000\n",
      "Epoch 28: 9445 / 10000\n",
      "Epoch 29: 9433 / 10000\n"
     ]
    }
   ],
   "source": [
    "net.SGD(training_data, 30, 10, 3.0, test_data = test_data)"
   ]
  },
  {
   "cell_type": "code",
   "execution_count": null,
   "metadata": {
    "collapsed": true
   },
   "outputs": [],
   "source": []
  }
 ],
 "metadata": {
  "kernelspec": {
   "display_name": "Python 2",
   "language": "python",
   "name": "python2"
  },
  "language_info": {
   "codemirror_mode": {
    "name": "ipython",
    "version": 2
   },
   "file_extension": ".py",
   "mimetype": "text/x-python",
   "name": "python",
   "nbconvert_exporter": "python",
   "pygments_lexer": "ipython2",
   "version": "2.7.8"
  }
 },
 "nbformat": 4,
 "nbformat_minor": 0
}
